{
 "cells": [
  {
   "cell_type": "markdown",
   "id": "2b472d62-ccbc-47a9-9506-5fd47bf1e90e",
   "metadata": {
    "jp-MarkdownHeadingCollapsed": true
   },
   "source": [
    "<div dir=\"rtl\">\n",
    "    \n",
    "### מלאו את הקובץ ושלחו לרז\n",
    "\n",
    "   - **ניתן למלא באנגלית או עברית**\n",
    "   - **מומלץ להשתמש בהמשך באותו הקובץ להגשת הפרויקט (מיחקו את התא הזה)**\n",
    "   - **הקפידו למלא טקסט בשדות מסוג מארק-דאון וקוד בשדות מסוג קוד (אחרת ירדו לכם נקודות)**\n",
    "     \n",
    "###   מלאו את כל הסעיפים. הניקוד ינתן באופן הבא:\n",
    "- **שם הפרויקט (3-4 מילים) - 5 נקודות** \n",
    "- **שמות מלאים של כל חברי הצוות, ללא ת.ז - 5 נקודות**\n",
    "- **תיאור הפרויקט (3-4 משפטים) - 10 נקודות**\n",
    "- **קישור למקור ממנו הורדתם את הנתונים - 10 נקודות**\n",
    "- **קריאת הקובץ מהגיטהאב שלכם - 10 נקודות**\n",
    "- **הסבר על מקור הנתונים - 10 נקודות**\n",
    "- **תיאור קצר של הדאטה בעזרת הפקודות שנלמדו בקורס - 20 נקודות**\n",
    "- **שלוש שאלות ראשוניות של דברים שהיה מעניין אתכם להוציא מהקובץ - 30 נקודות**\n",
    "#### בהצלחה !\n",
    "</div>"
   ]
  },
  {
   "cell_type": "markdown",
   "id": "a275784e-8460-4468-98f0-e7755b6986f7",
   "metadata": {},
   "source": [
    "# Project Name: `insert here`\n"
   ]
  },
  {
   "cell_type": "code",
   "execution_count": null,
   "id": "f3ec15ba-8f23-4b49-af93-aec9d8805945",
   "metadata": {},
   "outputs": [],
   "source": [
    "### Project team members: \n",
    "- `Name 1  - Tal Rubin\n",
    "- `Name 2 Shani Shasha\n",
    "- `Name 3 Nadav Barkan"
   ]
  },
  {
   "cell_type": "markdown",
   "id": "9b1b8607-f4b8-4bf0-b524-1a7e7d3200f6",
   "metadata": {},
   "source": [
    "### Project number: <insert here>\n",
    "`insert your project number from the spreadsheet where you signed up (https://shorturl.at/b39GX)`\n",
    "Project number - 1"
   ]
  },
  {
   "cell_type": "markdown",
   "id": "1935e972-e267-49ee-b637-abe0202cca05",
   "metadata": {},
   "source": [
    "### Project description: \n",
    "ניתוח מידע שנאסף מאפליקציות היכרויות במטרה להבין דפוסי התנהגות של משתמשים, כגון זמני פעילות, העדפות התאמה ויחס תגובות.\n",
    "הניתוח כלל סיווג משתמשים לפי מאפיינים דמוגרפיים והתנהגותיים, תוך שימוש בכלים סטטיסטיים ואלגוריתמים של למידת מכונה.\n"
   ]
  },
  {
   "cell_type": "markdown",
   "id": "b043a0ae-6e42-4120-8997-5724eb01acf1",
   "metadata": {},
   "source": [
    "### Link to the data: \n",
    "https://www.kaggle.com/datasets/ashleyxu98/tinder"
   ]
  },
  {
   "cell_type": "markdown",
   "id": "5a50c015-5907-45c3-8aef-bacaf1c00c6a",
   "metadata": {},
   "source": [
    "### Explain the data source:\n",
    "the data was gathered in Kaggle, This dataset provides a representation of user behavior on \"Tinder\" dating app"
   ]
  },
  {
   "cell_type": "markdown",
   "id": "a66dd24f-ed31-42b8-b6fe-425a4a87e535",
   "metadata": {},
   "source": [
    "----"
   ]
  },
  {
   "cell_type": "markdown",
   "id": "40924565-a0c6-4f91-b4c1-57816a816cbe",
   "metadata": {},
   "source": [
    "#### Read you file from Github:"
   ]
  },
  {
   "cell_type": "code",
   "execution_count": 18,
   "id": "5dbc7e4b-6bbf-40f0-825d-30b1eb4b6ac6",
   "metadata": {},
   "outputs": [],
   "source": [
    "# YOUR CODE HERE"
   ]
  },
  {
   "cell_type": "code",
   "execution_count": 8,
   "id": "10ba557c-f1b4-45cf-8771-2764ad1a02de",
   "metadata": {},
   "outputs": [
    {
     "data": {
      "text/html": [
       "<div>\n",
       "<style scoped>\n",
       "    .dataframe tbody tr th:only-of-type {\n",
       "        vertical-align: middle;\n",
       "    }\n",
       "\n",
       "    .dataframe tbody tr th {\n",
       "        vertical-align: top;\n",
       "    }\n",
       "\n",
       "    .dataframe thead th {\n",
       "        text-align: right;\n",
       "    }\n",
       "</style>\n",
       "<table border=\"1\" class=\"dataframe\">\n",
       "  <thead>\n",
       "    <tr style=\"text-align: right;\">\n",
       "      <th></th>\n",
       "      <th>_id</th>\n",
       "      <th>sum_app_opens</th>\n",
       "      <th>no_of_days</th>\n",
       "      <th>nrOfConversations</th>\n",
       "      <th>longestConversation</th>\n",
       "      <th>longestConversationInDays</th>\n",
       "      <th>averageConversationLength</th>\n",
       "      <th>averageConversationLengthInDays</th>\n",
       "      <th>medianConversationLength</th>\n",
       "      <th>medianConversationLengthInDays</th>\n",
       "      <th>...</th>\n",
       "      <th>cityName</th>\n",
       "      <th>country</th>\n",
       "      <th>createDate</th>\n",
       "      <th>education</th>\n",
       "      <th>gender</th>\n",
       "      <th>interestedIn</th>\n",
       "      <th>instagram</th>\n",
       "      <th>spotify</th>\n",
       "      <th>jobTitle</th>\n",
       "      <th>user_age</th>\n",
       "    </tr>\n",
       "  </thead>\n",
       "  <tbody>\n",
       "    <tr>\n",
       "      <th>0</th>\n",
       "      <td>00b74e27ad1cbb2ded8e907fcc49eaaf</td>\n",
       "      <td>6839</td>\n",
       "      <td>477</td>\n",
       "      <td>739</td>\n",
       "      <td>133</td>\n",
       "      <td>684</td>\n",
       "      <td>8.56</td>\n",
       "      <td>10.24</td>\n",
       "      <td>3</td>\n",
       "      <td>0.081134</td>\n",
       "      <td>...</td>\n",
       "      <td>Trondheim</td>\n",
       "      <td>Norway</td>\n",
       "      <td>2016-01-01</td>\n",
       "      <td>Has high school and/or college education</td>\n",
       "      <td>M</td>\n",
       "      <td>F</td>\n",
       "      <td>False</td>\n",
       "      <td>False</td>\n",
       "      <td>unknown</td>\n",
       "      <td>40</td>\n",
       "    </tr>\n",
       "    <tr>\n",
       "      <th>1</th>\n",
       "      <td>024610702baf540af5637873cd1534e9</td>\n",
       "      <td>26280</td>\n",
       "      <td>1197</td>\n",
       "      <td>464</td>\n",
       "      <td>36</td>\n",
       "      <td>622</td>\n",
       "      <td>4.50</td>\n",
       "      <td>3.97</td>\n",
       "      <td>2</td>\n",
       "      <td>0.000069</td>\n",
       "      <td>...</td>\n",
       "      <td>Richmond</td>\n",
       "      <td>USA</td>\n",
       "      <td>2016-07-12</td>\n",
       "      <td>Has high school and/or college education</td>\n",
       "      <td>M</td>\n",
       "      <td>F</td>\n",
       "      <td>False</td>\n",
       "      <td>False</td>\n",
       "      <td>unknown</td>\n",
       "      <td>19</td>\n",
       "    </tr>\n",
       "    <tr>\n",
       "      <th>2</th>\n",
       "      <td>0a5e3dd8489fe67485ddb7d6adb26ebd</td>\n",
       "      <td>3196</td>\n",
       "      <td>249</td>\n",
       "      <td>303</td>\n",
       "      <td>33</td>\n",
       "      <td>295</td>\n",
       "      <td>4.25</td>\n",
       "      <td>3.47</td>\n",
       "      <td>2</td>\n",
       "      <td>0.033715</td>\n",
       "      <td>...</td>\n",
       "      <td>unknown</td>\n",
       "      <td>unknown</td>\n",
       "      <td>2019-07-01</td>\n",
       "      <td>Has no high school or college education</td>\n",
       "      <td>M</td>\n",
       "      <td>F</td>\n",
       "      <td>False</td>\n",
       "      <td>False</td>\n",
       "      <td>unknown</td>\n",
       "      <td>21</td>\n",
       "    </tr>\n",
       "    <tr>\n",
       "      <th>3</th>\n",
       "      <td>048dd37565ad9cbc24c163ffedffbf58</td>\n",
       "      <td>2077</td>\n",
       "      <td>158</td>\n",
       "      <td>47</td>\n",
       "      <td>28</td>\n",
       "      <td>130</td>\n",
       "      <td>7.89</td>\n",
       "      <td>5.88</td>\n",
       "      <td>6</td>\n",
       "      <td>0.643727</td>\n",
       "      <td>...</td>\n",
       "      <td>Edmonton</td>\n",
       "      <td>Canada</td>\n",
       "      <td>2019-09-25</td>\n",
       "      <td>Has no high school or college education</td>\n",
       "      <td>M</td>\n",
       "      <td>F</td>\n",
       "      <td>False</td>\n",
       "      <td>False</td>\n",
       "      <td>unknown</td>\n",
       "      <td>21</td>\n",
       "    </tr>\n",
       "    <tr>\n",
       "      <th>4</th>\n",
       "      <td>0eb998fdde77f9c123c07eace18a5cc1</td>\n",
       "      <td>11946</td>\n",
       "      <td>715</td>\n",
       "      <td>809</td>\n",
       "      <td>444</td>\n",
       "      <td>198</td>\n",
       "      <td>6.82</td>\n",
       "      <td>1.92</td>\n",
       "      <td>3</td>\n",
       "      <td>0.091771</td>\n",
       "      <td>...</td>\n",
       "      <td>unknown</td>\n",
       "      <td>unknown</td>\n",
       "      <td>2017-11-17</td>\n",
       "      <td>Has no high school or college education</td>\n",
       "      <td>M</td>\n",
       "      <td>F</td>\n",
       "      <td>True</td>\n",
       "      <td>False</td>\n",
       "      <td>Research Assistant</td>\n",
       "      <td>21</td>\n",
       "    </tr>\n",
       "  </tbody>\n",
       "</table>\n",
       "<p>5 rows × 31 columns</p>\n",
       "</div>"
      ],
      "text/plain": [
       "                                _id  sum_app_opens  no_of_days  \\\n",
       "0  00b74e27ad1cbb2ded8e907fcc49eaaf           6839         477   \n",
       "1  024610702baf540af5637873cd1534e9          26280        1197   \n",
       "2  0a5e3dd8489fe67485ddb7d6adb26ebd           3196         249   \n",
       "3  048dd37565ad9cbc24c163ffedffbf58           2077         158   \n",
       "4  0eb998fdde77f9c123c07eace18a5cc1          11946         715   \n",
       "\n",
       "   nrOfConversations  longestConversation  longestConversationInDays  \\\n",
       "0                739                  133                        684   \n",
       "1                464                   36                        622   \n",
       "2                303                   33                        295   \n",
       "3                 47                   28                        130   \n",
       "4                809                  444                        198   \n",
       "\n",
       "   averageConversationLength  averageConversationLengthInDays  \\\n",
       "0                       8.56                            10.24   \n",
       "1                       4.50                             3.97   \n",
       "2                       4.25                             3.47   \n",
       "3                       7.89                             5.88   \n",
       "4                       6.82                             1.92   \n",
       "\n",
       "   medianConversationLength  medianConversationLengthInDays  ...   cityName  \\\n",
       "0                         3                        0.081134  ...  Trondheim   \n",
       "1                         2                        0.000069  ...   Richmond   \n",
       "2                         2                        0.033715  ...    unknown   \n",
       "3                         6                        0.643727  ...   Edmonton   \n",
       "4                         3                        0.091771  ...    unknown   \n",
       "\n",
       "   country  createDate                                 education  gender  \\\n",
       "0   Norway  2016-01-01  Has high school and/or college education       M   \n",
       "1      USA  2016-07-12  Has high school and/or college education       M   \n",
       "2  unknown  2019-07-01   Has no high school or college education       M   \n",
       "3   Canada  2019-09-25   Has no high school or college education       M   \n",
       "4  unknown  2017-11-17   Has no high school or college education       M   \n",
       "\n",
       "   interestedIn  instagram  spotify            jobTitle  user_age  \n",
       "0             F      False    False             unknown        40  \n",
       "1             F      False    False             unknown        19  \n",
       "2             F      False    False             unknown        21  \n",
       "3             F      False    False             unknown        21  \n",
       "4             F       True    False  Research Assistant        21  \n",
       "\n",
       "[5 rows x 31 columns]"
      ]
     },
     "execution_count": 8,
     "metadata": {},
     "output_type": "execute_result"
    }
   ],
   "source": [
    "import pandas as pd\n",
    "\n",
    "file_url = \"https://raw.githubusercontent.com/nadav103/app-project/refs/heads/main/Tinder_Data_v3_Clean_Edition.csv\"\n",
    "dating_df = pd.read_csv(file_url)\n",
    "dating_df.head()\n",
    "\n"
   ]
  },
  {
   "cell_type": "code",
   "execution_count": null,
   "id": "b7a3afee-4ade-4678-94c4-c152ff15cff0",
   "metadata": {},
   "outputs": [],
   "source": [
    "#### Describe the data\n",
    "* How many rows?\n",
    "* How many columns?\n",
    "* How many numeric columns? (not including numerical identifiers - numbers that uniquely define the row)\n",
    "* How many categorical columns? (not including string identifiers -  values that uniquely define the row)"
   ]
  },
  {
   "cell_type": "code",
   "execution_count": null,
   "id": "318da777-a227-4189-a7ac-164c840e8027",
   "metadata": {},
   "outputs": [],
   "source": [
    "# YOUR CODE HERE"
   ]
  },
  {
   "cell_type": "code",
   "execution_count": null,
   "id": "c92f0aeb-7103-4225-8b74-f4545328a145",
   "metadata": {},
   "outputs": [],
   "source": [
    "# YOUR CODE HERE"
   ]
  },
  {
   "cell_type": "code",
   "execution_count": null,
   "id": "bb13e178-dbc0-45b8-8a4d-848c44234e03",
   "metadata": {},
   "outputs": [],
   "source": [
    "# YOUR CODE HERE"
   ]
  },
  {
   "cell_type": "markdown",
   "id": "67cbfe4e-1a60-4460-8cc1-e98ea9813fa8",
   "metadata": {},
   "source": [
    "#### Write three questions you would like to answer using this data"
   ]
  },
  {
   "cell_type": "markdown",
   "id": "4470f031-7d4f-4814-8f36-549be16c2eea",
   "metadata": {},
   "source": [
    "1. `insert here`"
   ]
  },
  {
   "cell_type": "markdown",
   "id": "3f76efd8-a896-4758-a774-811abd08e9ab",
   "metadata": {},
   "source": [
    "2. `insert here`"
   ]
  },
  {
   "cell_type": "markdown",
   "id": "b7972801-dab3-4405-9ac9-c025162d858d",
   "metadata": {},
   "source": [
    "3. `insert here`"
   ]
  },
  {
   "cell_type": "code",
   "execution_count": null,
   "id": "83834c34-3883-4a98-8d9d-7f26e7f09f2e",
   "metadata": {},
   "outputs": [],
   "source": []
  },
  {
   "cell_type": "code",
   "execution_count": null,
   "id": "c241c7ac-513e-4862-8012-665d29598a78",
   "metadata": {},
   "outputs": [],
   "source": []
  },
  {
   "cell_type": "markdown",
   "id": "dc311a43-0865-4458-acb9-e5bb00769069",
   "metadata": {},
   "source": [
    "<div style=\"background-color: #f0f0f0; padding: 10px; border-radius: 5px;\">\n",
    "  <span style=\"color: red;\"><strong>— Do not proceed beyond this point. This is for the next steps, do not fill in —</strong></span>\n",
    "</div>\n"
   ]
  },
  {
   "cell_type": "markdown",
   "id": "37abd2f7-3901-41d5-bfb3-e30d1b79dd34",
   "metadata": {},
   "source": [
    "---\n",
    "### <span style=\"color:green\"> Observation 1:</span>\n",
    "\n",
    ">\n",
    "> \n",
    ">\n",
    "> \n",
    "\n",
    "\n",
    "---"
   ]
  },
  {
   "cell_type": "code",
   "execution_count": null,
   "id": "786aab2d-6e34-4d95-937d-1244062116de",
   "metadata": {},
   "outputs": [],
   "source": []
  },
  {
   "cell_type": "code",
   "execution_count": null,
   "id": "4b6a7501-4d00-44bd-a819-685c14950060",
   "metadata": {},
   "outputs": [],
   "source": []
  },
  {
   "cell_type": "code",
   "execution_count": null,
   "id": "8dca1901-eaaf-4c56-b2a0-c071dfa05a44",
   "metadata": {},
   "outputs": [],
   "source": []
  },
  {
   "cell_type": "markdown",
   "id": "dabb806f-f18c-419a-b144-1e60ec5ce800",
   "metadata": {},
   "source": [
    "---\n",
    "### <span style=\"color:green\"> Observation 2:</span>\n",
    "\n",
    ">\n",
    "> \n",
    ">\n",
    "> \n",
    "\n",
    "\n",
    "---"
   ]
  },
  {
   "cell_type": "code",
   "execution_count": null,
   "id": "84301767-29e7-4c06-8ffa-e13d6a814d03",
   "metadata": {},
   "outputs": [],
   "source": []
  },
  {
   "cell_type": "code",
   "execution_count": null,
   "id": "6df3dfb1-5b21-4ad9-a524-b2978a2480d8",
   "metadata": {},
   "outputs": [],
   "source": []
  },
  {
   "cell_type": "code",
   "execution_count": null,
   "id": "34a9ee94-3b65-4b0a-a7f4-11a0ef4e700b",
   "metadata": {},
   "outputs": [],
   "source": []
  },
  {
   "cell_type": "markdown",
   "id": "d6c0aad1-ba36-496c-911d-6047a95c2b2d",
   "metadata": {},
   "source": [
    "---\n",
    "### <span style=\"color:green\"> Observation 3:</span>\n",
    "\n",
    ">\n",
    "> \n",
    ">\n",
    "> \n",
    "\n",
    "\n",
    "---"
   ]
  },
  {
   "cell_type": "code",
   "execution_count": null,
   "id": "d95ccb40-2e2b-470b-9c21-14cac0ff759c",
   "metadata": {},
   "outputs": [],
   "source": []
  },
  {
   "cell_type": "code",
   "execution_count": null,
   "id": "eb14a9f4-f33d-43f2-9e33-713254c2b122",
   "metadata": {},
   "outputs": [],
   "source": []
  },
  {
   "cell_type": "code",
   "execution_count": null,
   "id": "35655047-ecaa-4051-bbcd-c870764e80d0",
   "metadata": {},
   "outputs": [],
   "source": []
  },
  {
   "cell_type": "markdown",
   "id": "9b3f378b-0c61-4edf-9b36-a1cf55c3a5b5",
   "metadata": {},
   "source": [
    "---\n",
    "### <span style=\"color:green\"> Summary</span>\n",
    "\n",
    "> Anything you'd like to say - your conclusions, summary, how hard you worked etc.\n",
    "> \n",
    ">    \n",
    ">   \n",
    "   \n",
    "\n",
    "---"
   ]
  },
  {
   "cell_type": "code",
   "execution_count": null,
   "id": "9364ddf3-4fcb-4d4e-9ff6-0ab697e01e94",
   "metadata": {},
   "outputs": [],
   "source": []
  }
 ],
 "metadata": {
  "kernelspec": {
   "display_name": "Python 3 (ipykernel)",
   "language": "python",
   "name": "python3"
  },
  "language_info": {
   "codemirror_mode": {
    "name": "ipython",
    "version": 3
   },
   "file_extension": ".py",
   "mimetype": "text/x-python",
   "name": "python",
   "nbconvert_exporter": "python",
   "pygments_lexer": "ipython3",
   "version": "3.13.2"
  }
 },
 "nbformat": 4,
 "nbformat_minor": 5
}
